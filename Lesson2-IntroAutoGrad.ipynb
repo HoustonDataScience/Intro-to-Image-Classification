{
 "cells": [
  {
   "cell_type": "markdown",
   "metadata": {},
   "source": [
    "# Automatic differentiation\n",
    "\n",
    "Automatic differentiation is a core component of `torch`. `autograd` is essential to understand how neural networks can be trained. So, let us look at a few simple examples to understand how `autograd` works.\n",
    "\n",
    "`autograd` in `torch` provides automatic differentiation capabilities for all operations in tensor. It is an essential part to understand how backpropagation works in `torch`.\n",
    "\n",
    "Let us look at a few examples to carefully understand what this is all about.\n",
    "\n",
    "Let us start with an example from our previous notebook and define a tensor."
   ]
  },
  {
   "cell_type": "code",
   "execution_count": 1,
   "metadata": {},
   "outputs": [],
   "source": [
    "import torch"
   ]
  },
  {
   "cell_type": "markdown",
   "metadata": {},
   "source": [
    "An important part of tensors in PyTorch is the ability to track operations as we go along. \n",
    "\n",
    "If we set its attribute `.requires_grad` as `True`, it starts to track all operations on it. When we finish your computation you can call `.backward()` and have all the gradients computed automatically. The gradient for this tensor will be accumulated into `.grad` attribute."
   ]
  },
  {
   "cell_type": "code",
   "execution_count": 2,
   "metadata": {},
   "outputs": [
    {
     "name": "stdout",
     "output_type": "stream",
     "text": [
      "tensor([ 1.,  2.,  3.])\n"
     ]
    }
   ],
   "source": [
    "x = torch.tensor([1., 2., 3.], requires_grad=True)\n",
    "print(x)"
   ]
  },
  {
   "cell_type": "markdown",
   "metadata": {},
   "source": [
    "Let us do a few operations on the tensor to see what it is all about."
   ]
  },
  {
   "cell_type": "code",
   "execution_count": 3,
   "metadata": {},
   "outputs": [
    {
     "name": "stdout",
     "output_type": "stream",
     "text": [
      "tensor([  9.,  16.,  25.])\n"
     ]
    }
   ],
   "source": [
    "y = x + 2\n",
    "z = y*y\n",
    "print(z)"
   ]
  },
  {
   "cell_type": "code",
   "execution_count": 4,
   "metadata": {},
   "outputs": [
    {
     "name": "stdout",
     "output_type": "stream",
     "text": [
      "tensor(16.6667)\n"
     ]
    }
   ],
   "source": [
    "zmean = z.mean()\n",
    "print(zmean)"
   ]
  },
  {
   "cell_type": "markdown",
   "metadata": {},
   "source": [
    "## Computing gradients\n",
    "\n",
    "Now that we have computed a single value - `zmean` from a tensor `z`, let us run backpropagation and compute the gradients."
   ]
  },
  {
   "cell_type": "code",
   "execution_count": 5,
   "metadata": {},
   "outputs": [],
   "source": [
    "zmean.backward()"
   ]
  },
  {
   "cell_type": "markdown",
   "metadata": {},
   "source": [
    "Let us look at the gradients now."
   ]
  },
  {
   "cell_type": "code",
   "execution_count": 6,
   "metadata": {},
   "outputs": [
    {
     "name": "stdout",
     "output_type": "stream",
     "text": [
      "tensor([ 2.0000,  2.6667,  3.3333])\n"
     ]
    }
   ],
   "source": [
    "print(x.grad)"
   ]
  },
  {
   "cell_type": "markdown",
   "metadata": {},
   "source": [
    "Of course, `torch` computed the gradients for us. Let us do this with hand and make sure we understand this well.\n",
    "\n",
    "\\begin{eqnarray}\n",
    "y &= x + 2 \\\\\n",
    "z &= y^2 \\\\\n",
    "z_{mean} &= \\sum_{i=1}^3 z_i\n",
    "\\end{eqnarray}"
   ]
  },
  {
   "cell_type": "markdown",
   "metadata": {},
   "source": [
    "For simple functions like we defined above, we can compute it by hand. However, for complicated functions of several variables, it is a challenge to compute it by hand. That is where we see the true power of `autograd`.\n",
    "\n",
    "In the next few notebooks, we will see the power of automatic differentiation.\n",
    "\n",
    "A final note: Although this tutorial uses `torch` to illustrate automatic differentiation, backward propagation and other concepts, these concepts are true for your favorite deep learning package."
   ]
  }
 ],
 "metadata": {
  "kernelspec": {
   "display_name": "Python [conda env:lasio_torch]",
   "language": "python",
   "name": "conda-env-lasio_torch-py"
  },
  "language_info": {
   "codemirror_mode": {
    "name": "ipython",
    "version": 3
   },
   "file_extension": ".py",
   "mimetype": "text/x-python",
   "name": "python",
   "nbconvert_exporter": "python",
   "pygments_lexer": "ipython3",
   "version": "3.6.5"
  }
 },
 "nbformat": 4,
 "nbformat_minor": 2
}
